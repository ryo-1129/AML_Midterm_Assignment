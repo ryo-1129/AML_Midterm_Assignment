{
  "nbformat": 4,
  "nbformat_minor": 0,
  "metadata": {
    "colab": {
      "name": "shimosaka_final_ryosukeI.ipynb",
      "provenance": [],
      "collapsed_sections": [],
      "include_colab_link": true
    },
    "kernelspec": {
      "name": "python3",
      "display_name": "Python 3"
    }
  },
  "cells": [
    {
      "cell_type": "markdown",
      "metadata": {
        "id": "view-in-github",
        "colab_type": "text"
      },
      "source": [
        "<a href=\"https://colab.research.google.com/github/ryo-1129/AML_Midterm_Assignment/blob/main/shimosaka_final_ryosukeI.ipynb\" target=\"_parent\"><img src=\"https://colab.research.google.com/assets/colab-badge.svg\" alt=\"Open In Colab\"/></a>"
      ]
    },
    {
      "cell_type": "code",
      "metadata": {
        "id": "fyfdiTizgHzd"
      },
      "source": [
        "# requirements\n",
        "import numpy as np\n",
        "import matplotlib.pyplot as plt\n",
        "import cvxpy as cv"
      ],
      "execution_count": 2,
      "outputs": []
    },
    {
      "cell_type": "markdown",
      "metadata": {
        "id": "GWpRlNgofk-W"
      },
      "source": [
        "# Datasets"
      ]
    },
    {
      "cell_type": "code",
      "metadata": {
        "id": "nw9srB9Q8gsO"
      },
      "source": [
        "# dataset 4\n",
        "n = 200\n",
        "x_d4 = 3 * (np.random.rand(n, 4) - 0.5)\n",
        "y_d4 = (2 * x_d4[:, 0] - 1 * x_d4[:,1] + 0.5 + 0.5 * np.random.randn(n)) > 0\n",
        "y_d4 = 2 * y_d4 -1\n"
      ],
      "execution_count": 6,
      "outputs": []
    },
    {
      "cell_type": "code",
      "metadata": {
        "id": "fUxJDZON9n9V"
      },
      "source": [
        "# dataset 5\n",
        "n = 200\n",
        "x_d5 = 3 * (np.random.rand(n, 4) - 0.5)\n",
        "W = np.array([[ 2,  -1, 0.5,],\n",
        "              [-3,   2,   1,],\n",
        "              [ 1,   2,   3]])\n",
        "y_d5 = np.argmax(np.dot(np.hstack([x_d5[:,:2], np.ones((n, 1))]), W.T)\n",
        "                        + 0.5 * np.random.randn(n, 3), axis=1)"
      ],
      "execution_count": 3,
      "outputs": []
    },
    {
      "cell_type": "markdown",
      "metadata": {
        "id": "IrhDZAmp8DlM"
      },
      "source": [
        "# Problem 1"
      ]
    },
    {
      "cell_type": "code",
      "metadata": {
        "id": "xONF7HSY8B_R"
      },
      "source": [
        "# requirement\n",
        "import numpy as np\n",
        "import matplotlib.pyplot as plt\n",
        "import cvxpy\n"
      ],
      "execution_count": 1,
      "outputs": []
    },
    {
      "cell_type": "code",
      "source": [
        "# 200*5 (5列目はオフセット)\n",
        "x = np.concatenate([x_d4, np.ones((x_d4.shape[0], 1))], 1)\n",
        "# 200次元のラベル{+1, -1}\n",
        "y = y_d4\n",
        "\n",
        "num_iter = 100\n",
        "lam = 0.01\n",
        "\n",
        "def wx (ww, x):\n",
        "  return ww[0] * x[:,0] + ww[1] * x[:,1] + ww[2] * x[:,2] + ww[3] * x[:,3] + ww[4] * x[:,4]\n",
        "\n",
        "# 5次元ベクトルの勾配\n",
        "def grad(posterior, y, x, lam, ww):\n",
        "  grad = np.zeros(5)\n",
        "  for i in range(5):\n",
        "    grad[i] = 1/n * np.sum((1-posterior) * (-y) * x[:, i]) + 2 * lam * ww[i]\n",
        "\n",
        "  return grad\n",
        "\n",
        "# 5*5のヘッセ行列\n",
        "def hess(posterior, y, x, lam):\n",
        "  hess = np.zeros((5,5))\n",
        "  for i in range(5):\n",
        "    for j in range(5):\n",
        "      hess[i,j] = 1/n * np.sum((1-posterior) * posterior * y * y * x[:, i] * x[:, j])\n",
        "      if (i == j):\n",
        "        hess[i,j] += 2 * lam\n",
        "  return hess"
      ],
      "metadata": {
        "id": "JD7wA_Kdpb9Q"
      },
      "execution_count": 28,
      "outputs": []
    },
    {
      "cell_type": "code",
      "metadata": {
        "id": "Z8Zc2Z5u-NTp"
      },
      "source": [
        "loss_hist_batch = [] # to store the history of loss J(w_t)\n",
        "\n",
        "# implement batch steepest gradient method here\n",
        "\n",
        "ww = 3*np.ones(5)\n",
        "alpha = 1\n",
        "lip = np.zeros(5)\n",
        "for i in range(5):\n",
        "  lip[i] = 0.25 * max(x[:, i] ** 2)\n",
        "\n",
        "for t in range(num_iter):\n",
        "  posterior = 1/(1+np.exp(-y * (wx(ww,x))))\n",
        "\n",
        "  direction = grad(posterior, y, x, lam, ww)\n",
        "  j = 1/n * np.sum(np.log(1.0 + np.exp(-y * wx(ww, x)))) + lam * np.inner(ww,ww)\n",
        "  loss_hist_batch.append(j)\n",
        "  ww = ww - alpha * 1.0 / lip * direction \n"
      ],
      "execution_count": 40,
      "outputs": []
    },
    {
      "cell_type": "code",
      "metadata": {
        "id": "X42JKvHsDptm"
      },
      "source": [
        "loss_hist_newton = [] # to store the history of loss J(w_t)\n",
        "\n",
        "# implement Newton based method here\n",
        "ww = 3*np.ones(5)\n",
        "\n",
        "for t in range(num_iter):\n",
        "  posterior = 1/(1+np.exp(-y * (wx(ww,x))))\n",
        "\n",
        "  g = grad(posterior, y, x, lam, ww)\n",
        "  h = hess(posterior, y, x, lam)\n",
        "\n",
        "  j = 1/n * np.sum(np.log(1.0 + np.exp(-y * wx(ww, x)))) + lam * np.inner(ww,ww)\n",
        "  loss_hist_newton.append(j)\n",
        "  ww = ww - np.dot(np.linalg.inv(h), g) * 1.0 / np.sqrt(t + 10)\n"
      ],
      "execution_count": 39,
      "outputs": []
    },
    {
      "cell_type": "code",
      "metadata": {
        "id": "p1dl5DU_9p5m",
        "colab": {
          "base_uri": "https://localhost:8080/",
          "height": 283
        },
        "outputId": "6dd5f4b2-2089-48bc-ad22-8238348255a7"
      },
      "source": [
        "# plot the result\n",
        "show_iter = 50\n",
        "j_hat = min(min(loss_hist_batch), min(loss_hist_newton))\n",
        "plt.yscale('log')\n",
        "plt.plot(loss_hist_batch[:show_iter] - j_hat, label='steepest')\n",
        "plt.plot(loss_hist_newton[:show_iter] - j_hat, label='newton')"
      ],
      "execution_count": 41,
      "outputs": [
        {
          "output_type": "execute_result",
          "data": {
            "text/plain": [
              "[<matplotlib.lines.Line2D at 0x7f9b5c44ef90>]"
            ]
          },
          "metadata": {},
          "execution_count": 41
        },
        {
          "output_type": "display_data",
          "data": {
            "text/plain": [
              "<Figure size 432x288 with 1 Axes>"
            ],
            "image/png": "[encoded data removed]"
          },
          "metadata": {
            "needs_background": "light"
          }
        }
      ]
    },
    {
      "cell_type": "code",
      "source": [
        "# steepest gradient method\n",
        "x5 = np.concatenate([x_d5, np.ones((x_d5.shape[0], 1))], 1)\n",
        "y5 = y_d5\n",
        "\n",
        "multi_loss_hist_steepest = []\n",
        "num_iter2 = 100\n",
        "num_class = 3\n",
        "alpha = 0.01\n",
        "\n",
        "W = 3 * np.ones((5, num_class))\n",
        "\n",
        "def Wx (W, x):\n",
        "  return np.dot(x, W)\n",
        "\n",
        "def soft_max(z):\n",
        "  y = np.zeros(z.shape)\n",
        "  for i in range(num_class):\n",
        "    y[:, i] = np.exp(z[:, i]) / np.sum((np.exp(z)), 1)\n",
        "  return y\n",
        "\n",
        "def onehot(y):\n",
        "  T = np.zeros((y.size, num_class))\n",
        "  for data in range(y.size):\n",
        "    T[data, y[data]] = 1\n",
        "  return T\n",
        "\n",
        "def get_loss(W, T, Y):\n",
        "  return -np.sum(T * np.log(Y))\n",
        "\n",
        "T = onehot(y5)\n",
        "\n",
        "for t in range(num_iter2):\n",
        "  Y = soft_max(Wx(W, x5))\n",
        "  direction = np.dot(x5.T, T - Y)\n",
        "  j = get_loss(W, T, Y)\n",
        "  multi_loss_hist_steepest.append(j)\n",
        "  W = W + alpha * direction"
      ],
      "metadata": {
        "id": "cnW2nJRpwfx0"
      },
      "execution_count": 6,
      "outputs": []
    },
    {
      "cell_type": "code",
      "source": [
        "# newton method\n",
        "x5 = np.concatenate([x_d5, np.ones((x_d5.shape[0], 1))], 1)\n",
        "y5 = y_d5\n",
        "\n",
        "multi_loss_hist_newton = []\n",
        "num_iter2 = 100\n",
        "num_class = 3\n",
        "\n",
        "W = 3 * np.ones((5, num_class))\n",
        "\n",
        "def Wx_newton (W, x):\n",
        "  W = W.reshape([5, num_class])\n",
        "  wx = np.dot(x, W)\n",
        "  W = W.T.flatten()\n",
        "  return wx\n",
        "\n",
        "def R_(y, i, j):\n",
        "  I = np.eye(n)\n",
        "  R_ij = np.empty(n)\n",
        "  for k in range(n):\n",
        "    R_ij[k] = y[k,i] * (I[i, j] - y[k, j])\n",
        "  return np.diag(R_ij)\n",
        "\n",
        "def get_loss2(T, Y):\n",
        "  delta = 1e-7\n",
        "  return -np.sum(T * np.log(Y + delta))\n",
        "\n",
        "def Hessian(y):\n",
        "  H = np.empty([5 * num_class, 5 * num_class])\n",
        "  for i in range(num_class):\n",
        "    for j in range(num_class):\n",
        "      R = R_(y, i, j)\n",
        "      H[5 * j: 5 * j + 5, 5 * i:5*i+5] = 1/n * np.dot(np.dot(x5.T, R), x5)\n",
        "  return H\n",
        "\n",
        "T = onehot(y5)\n",
        "W = W.T.flatten()\n",
        "dw = np.zeros([5 * num_class])\n",
        "for t in range(32):\n",
        "  print(t)\n",
        "  Y = soft_max(Wx_newton(W, x5))\n",
        "  for k in range(num_class):\n",
        "    dw[k * 5:k * 5 + 5] = 1/n * np.dot(x5.T, Y[:, k] - T[:, k])\n",
        "  H = Hessian(Y)\n",
        "  j = get_loss2(T, Y)\n",
        "  multi_loss_hist_newton.append(j)\n",
        "  W = W - np.dot(np.linalg.inv(H), dw)\n",
        "W = W.reshape([5, num_class]).T"
      ],
      "metadata": {
        "colab": {
          "base_uri": "https://localhost:8080/"
        },
        "id": "ft3w_WdGgDln",
        "outputId": "f814ed50-3e8b-4d86-cc75-7555acbd48e0"
      },
      "execution_count": 49,
      "outputs": [
        {
          "output_type": "stream",
          "name": "stdout",
          "text": [
            "0\n",
            "1\n",
            "2\n",
            "3\n",
            "4\n",
            "5\n",
            "6\n",
            "7\n",
            "8\n",
            "9\n",
            "10\n",
            "11\n",
            "12\n",
            "13\n",
            "14\n",
            "15\n",
            "16\n",
            "17\n",
            "18\n",
            "19\n",
            "20\n",
            "21\n",
            "22\n",
            "23\n",
            "24\n",
            "25\n",
            "26\n",
            "27\n",
            "28\n",
            "29\n",
            "30\n"
          ]
        },
        {
          "output_type": "stream",
          "name": "stderr",
          "text": [
            "/usr/local/lib/python3.7/dist-packages/ipykernel_launcher.py:17: RuntimeWarning: overflow encountered in exp\n",
            "/usr/local/lib/python3.7/dist-packages/ipykernel_launcher.py:17: RuntimeWarning: invalid value encountered in true_divide\n"
          ]
        },
        {
          "output_type": "stream",
          "name": "stdout",
          "text": [
            "31\n"
          ]
        }
      ]
    },
    {
      "cell_type": "code",
      "source": [
        "plt.plot(multi_loss_hist_steepest)\n",
        "# plt.plot(multi_loss_hist_newton)"
      ],
      "metadata": {
        "colab": {
          "base_uri": "https://localhost:8080/",
          "height": 283
        },
        "id": "zpqPcUgcGJP_",
        "outputId": "ae85df8c-949b-4c95-cd85-907c88468460"
      },
      "execution_count": 38,
      "outputs": [
        {
          "output_type": "execute_result",
          "data": {
            "text/plain": [
              "[<matplotlib.lines.Line2D at 0x7fbe46fd8090>]"
            ]
          },
          "metadata": {},
          "execution_count": 38
        },
        {
          "output_type": "display_data",
          "data": {
            "text/plain": [
              "<Figure size 432x288 with 1 Axes>"
            ],
            "image/png": "[encoded data removed]"
          },
          "metadata": {
            "needs_background": "light"
          }
        }
      ]
    }
  ]
}